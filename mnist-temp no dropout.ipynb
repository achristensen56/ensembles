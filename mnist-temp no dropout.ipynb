{
 "cells": [
  {
   "cell_type": "markdown",
   "metadata": {},
   "source": [
    "In this notebook we want to assess the difference in noise correlations between models trained with and without dropout.\n",
    "\n",
    "We do that by:\n",
    "\n",
    "1. Training the networks with and without dropouts\n",
    "2. Collecting the embedding layers activations on test data\n",
    "3. Training classifiers on the embedding layers suffled activity, and assessing it unshuffled test data (for both dropout and non-dropout networks)\n",
    "4. Assessing covariance of embedding layer \n",
    "\n",
    "5. Finally we vary the dropout probability and determine noise correlations as a function of dropout probability (or batch size, not sure)"
   ]
  },
  {
   "cell_type": "code",
   "execution_count": 1,
   "metadata": {
    "collapsed": true
   },
   "outputs": [],
   "source": [
    "import tensorflow as tf"
   ]
  },
  {
   "cell_type": "code",
   "execution_count": 2,
   "metadata": {
    "collapsed": false
   },
   "outputs": [
    {
     "name": "stdout",
     "output_type": "stream",
     "text": [
      "Extracting MNIST_data/train-images-idx3-ubyte.gz\n",
      "Extracting MNIST_data/train-labels-idx1-ubyte.gz\n",
      "Extracting MNIST_data/t10k-images-idx3-ubyte.gz\n",
      "Extracting MNIST_data/t10k-labels-idx1-ubyte.gz\n"
     ]
    }
   ],
   "source": [
    "from tensorflow.examples.tutorials.mnist import input_data\n",
    "mnist = input_data.read_data_sets('MNIST_data', one_hot=True)"
   ]
  },
  {
   "cell_type": "markdown",
   "metadata": {},
   "source": [
    "We make the most vanilla convnet to run MNIST. This is literally the exact conv-net from the 'deep mnist for experts' tutorial. \n",
    "\n",
    "We can specify at training time the keep probability, which when we want to set a network with no dropout we just set to 0. "
   ]
  },
  {
   "cell_type": "code",
   "execution_count": 3,
   "metadata": {
    "collapsed": true
   },
   "outputs": [],
   "source": [
    "def weight_variable(shape):\n",
    "  initial = tf.truncated_normal(shape, stddev=0.1)\n",
    "  return tf.Variable(initial)\n",
    "\n",
    "def bias_variable(shape):\n",
    "  initial = tf.constant(0.1, shape=shape)\n",
    "  return tf.Variable(initial)\n",
    "\n",
    "def conv2d(x, W):\n",
    "  return tf.nn.conv2d(x, W, strides=[1, 1, 1, 1], padding='SAME')\n",
    "\n",
    "def max_pool_2x2(x):\n",
    "  return tf.nn.max_pool(x, ksize=[1, 2, 2, 1],\n",
    "                        strides=[1, 2, 2, 1], padding='SAME')"
   ]
  },
  {
   "cell_type": "code",
   "execution_count": 21,
   "metadata": {
    "collapsed": false
   },
   "outputs": [
    {
     "name": "stdout",
     "output_type": "stream",
     "text": [
      "step 0, training accuracy 0.08\n",
      "step 100, training accuracy 0.9\n",
      "step 200, training accuracy 0.92\n",
      "step 300, training accuracy 0.88\n",
      "step 400, training accuracy 0.93\n",
      "step 500, training accuracy 0.96\n",
      "step 600, training accuracy 0.97\n",
      "step 700, training accuracy 1\n",
      "step 800, training accuracy 0.97\n",
      "step 900, training accuracy 1\n",
      "step 1000, training accuracy 0.98\n",
      "step 1100, training accuracy 0.96\n",
      "step 1200, training accuracy 0.99\n",
      "step 1300, training accuracy 0.97\n",
      "step 1400, training accuracy 0.97\n",
      "step 1500, training accuracy 0.96\n",
      "step 1600, training accuracy 1\n",
      "step 1700, training accuracy 0.98\n",
      "step 1800, training accuracy 0.98\n",
      "step 1900, training accuracy 0.98\n",
      "step 2000, training accuracy 0.99\n",
      "step 2100, training accuracy 1\n",
      "step 2200, training accuracy 0.99\n",
      "step 2300, training accuracy 0.98\n",
      "step 2400, training accuracy 0.98\n",
      "step 2500, training accuracy 0.98\n",
      "step 2600, training accuracy 1\n",
      "step 2700, training accuracy 1\n",
      "step 2800, training accuracy 1\n",
      "step 2900, training accuracy 0.99\n",
      "step 3000, training accuracy 0.98\n",
      "step 3100, training accuracy 1\n",
      "step 3200, training accuracy 1\n",
      "step 3300, training accuracy 1\n",
      "step 3400, training accuracy 1\n",
      "step 3500, training accuracy 1\n",
      "step 3600, training accuracy 0.99\n",
      "step 3700, training accuracy 0.99\n",
      "step 3800, training accuracy 0.99\n",
      "step 3900, training accuracy 0.99\n",
      "step 4000, training accuracy 0.99\n",
      "step 4100, training accuracy 1\n",
      "step 4200, training accuracy 1\n",
      "step 4300, training accuracy 1\n",
      "step 4400, training accuracy 1\n",
      "step 4500, training accuracy 1\n",
      "step 4600, training accuracy 0.99\n",
      "step 4700, training accuracy 1\n",
      "step 4800, training accuracy 0.99\n",
      "step 4900, training accuracy 1\n",
      "test accuracy 0.9871\n"
     ]
    }
   ],
   "source": [
    "drop_net = convNet()\n",
    "drop_net.fit(max_iters = 5000, batch_size = 100, train_keep_prob = 1)"
   ]
  },
  {
   "cell_type": "code",
   "execution_count": 22,
   "metadata": {
    "collapsed": false
   },
   "outputs": [],
   "source": [
    "#trials = [sess.run(h_fc1_drop, feed_dict = {x: mnist.test.images[0:100], keep_prob: .5}) for i in range(50)]\n",
    "#on a small amazon instance can't do more than 10000 training examples. Will fix this tmrw once the code is written. \n",
    "\n",
    "all_units = drop_net.sess.run(drop_net.h_fc1_drop, feed_dict = {drop_net.x: mnist.test.images, drop_net.keep_prob: 1})"
   ]
  },
  {
   "cell_type": "code",
   "execution_count": 23,
   "metadata": {
    "collapsed": false
   },
   "outputs": [],
   "source": [
    "import numpy as np\n",
    "\n",
    "ylabels = [np.argmax(row) for row in mnist.test.labels] "
   ]
  },
  {
   "cell_type": "code",
   "execution_count": 27,
   "metadata": {
    "collapsed": false
   },
   "outputs": [
    {
     "data": {
      "text/plain": [
       "0.98839999999999995"
      ]
     },
     "execution_count": 27,
     "metadata": {},
     "output_type": "execute_result"
    }
   ],
   "source": [
    "from sklearn.linear_model import LogisticRegression\n",
    "from sklearn.cross_validation import train_test_split\n",
    "from sklearn.preprocessing import LabelEncoder\n",
    "\n",
    "#ylabels = LabelEncoder().fit_transform(mnist.test.labels[0:1000])\n",
    "\n",
    "X_train, X_test, y_train, y_test = train_test_split(all_units, ylabels)\n",
    "\n",
    "model = LogisticRegression()\n",
    "model.fit(X_train, y_train)\n",
    "model.score(X_test, y_test)"
   ]
  },
  {
   "cell_type": "code",
   "execution_count": 28,
   "metadata": {
    "collapsed": true
   },
   "outputs": [],
   "source": [
    "def tensorize(data, labels, est_trials = 1000, shuffle = False):\n",
    "    n_points, n_neurons = data.shape\n",
    "    n_classes = len(set(labels))\n",
    "    \n",
    "    tensor = np.empty([n_classes, est_trials, n_neurons])\n",
    "    trial_count = np.zeros(n_classes).astype('int')\n",
    "    \n",
    "    for i in range(n_points):\n",
    "        \n",
    "        tensor[labels[i]][trial_count[labels[i]]] = data[i]\n",
    "        trial_count[labels[i]] += 1\n",
    "        \n",
    "    num_trials = min(trial_count).astype('int')\n",
    "    tensor = tensor[:, 0:num_trials,: ]\n",
    "    \n",
    "    if shuffle:\n",
    "        \n",
    "        for i in range(n_neurons):\n",
    "            for j in range(n_classes):      \n",
    "                tensor[j, :, i] = np.random.permutation(tensor[j, :, i])\n",
    "\n",
    "    labels = [range(10) for i in range(num_trials)]\n",
    "    labels = np.array(labels).transpose()\n",
    "    \n",
    "    return tensor, labels"
   ]
  },
  {
   "cell_type": "code",
   "execution_count": 29,
   "metadata": {
    "collapsed": false
   },
   "outputs": [],
   "source": [
    "no_shuf_test = []\n",
    "\n",
    "for i in range(100):\n",
    "    train_tensor, train_labels = tensorize(X_train, y_train, est_trials = 1000, shuffle = True)\n",
    "    test_tensor, test_labels = tensorize(X_test, y_test, est_trials = 1000, shuffle = False)\n",
    "\n",
    "    train_tensor, train_labels = train_tensor.reshape(-1, 4096), train_labels.reshape([-1])\n",
    "    test_tensor, test_labels = test_tensor.reshape(-1, 4096), test_labels.reshape([-1])\n",
    "    \n",
    "    model = LogisticRegression()\n",
    "    model.fit(train_tensor, train_labels)\n",
    "    no_shuf_test.append(model.score(X_test, y_test))"
   ]
  },
  {
   "cell_type": "code",
   "execution_count": 30,
   "metadata": {
    "collapsed": true
   },
   "outputs": [],
   "source": [
    "shuf_test = []\n",
    "\n",
    "for i in range(100):\n",
    "    train_tensor, train_labels = tensorize(X_train, y_train, est_trials = 1000, shuffle = True)\n",
    "    test_tensor, test_labels = tensorize(X_test, y_test, est_trials = 1000, shuffle = True)\n",
    "\n",
    "    train_tensor, train_labels = train_tensor.reshape(-1, 4096), train_labels.reshape([-1])\n",
    "    test_tensor, test_labels = test_tensor.reshape(-1, 4096), test_labels.reshape([-1])\n",
    "\n",
    "    model = LogisticRegression()\n",
    "    model.fit(train_tensor, train_labels)\n",
    "    shuf_test.append(model.score(X_test, y_test))"
   ]
  },
  {
   "cell_type": "code",
   "execution_count": 31,
   "metadata": {
    "collapsed": false
   },
   "outputs": [
    {
     "data": {
      "text/plain": [
       "<matplotlib.legend.Legend at 0x7f4d6020d0d0>"
      ]
     },
     "execution_count": 31,
     "metadata": {},
     "output_type": "execute_result"
    },
    {
     "data": {
      "image/png": "[encoded data removed]",
      "text/plain": [
       "<matplotlib.figure.Figure at 0x7f4d604cb550>"
      ]
     },
     "metadata": {},
     "output_type": "display_data"
    }
   ],
   "source": [
    "import matplotlib.pyplot as plt\n",
    "%matplotlib inline\n",
    "\n",
    "ax = plt.subplot(111)\n",
    "plt.scatter(np.random.normal(.1, .005, size=[100]), no_shuf_test, c = 'b', alpha = .5, label = 'unshuffled test set')\n",
    "plt.scatter(np.random.normal(.2, .005, size = [100]), shuf_test, c = 'm', alpha = .5, label = 'shuffled test set')\n",
    "plt.xlim([0, .5])\n",
    "simpleaxis(ax, bottom = True)\n",
    "plt.legend(frameon = False)"
   ]
  },
  {
   "cell_type": "code",
   "execution_count": 18,
   "metadata": {
    "collapsed": false
   },
   "outputs": [
    {
     "name": "stdout",
     "output_type": "stream",
     "text": [
      "0.925204 0.92504\n"
     ]
    }
   ],
   "source": [
    "print np.average(no_shuf_test), np.average(shuf_test)"
   ]
  },
  {
   "cell_type": "code",
   "execution_count": 19,
   "metadata": {
    "collapsed": false
   },
   "outputs": [
    {
     "data": {
      "text/plain": [
       "(1.291980779713799, 0.19786974787291606)"
      ]
     },
     "execution_count": 19,
     "metadata": {},
     "output_type": "execute_result"
    }
   ],
   "source": [
    "from scipy.stats import ttest_ind\n",
    "\n",
    "ttest_ind(no_shuf_test, shuf_test)"
   ]
  },
  {
   "cell_type": "code",
   "execution_count": 14,
   "metadata": {
    "collapsed": true
   },
   "outputs": [],
   "source": [
    "def simpleaxis(ax, bottom = False):\n",
    "    '''\n",
    "    remove the top and right spines and ticks from the axis. \n",
    "    '''\n",
    "    ax.spines['top'].set_visible(False)\n",
    "    ax.spines['right'].set_visible(False)\n",
    "    if bottom:\n",
    "        ax.spines['bottom'].set_visible(False)\n",
    "        ax.get_xaxis().set_ticks([])\n",
    "    else:\n",
    "        ax.get_xaxis().tick_bottom()\n",
    "\n",
    "\n",
    "    ax.get_yaxis().tick_left()"
   ]
  },
  {
   "cell_type": "code",
   "execution_count": null,
   "metadata": {
    "collapsed": true
   },
   "outputs": [],
   "source": []
  }
 ],
 "metadata": {
  "kernelspec": {
   "display_name": "Python 2",
   "language": "python",
   "name": "python2"
  },
  "language_info": {
   "codemirror_mode": {
    "name": "ipython",
    "version": 2
   },
   "file_extension": ".py",
   "mimetype": "text/x-python",
   "name": "python",
   "nbconvert_exporter": "python",
   "pygments_lexer": "ipython2",
   "version": "2.7.6"
  }
 },
 "nbformat": 4,
 "nbformat_minor": 2
}
